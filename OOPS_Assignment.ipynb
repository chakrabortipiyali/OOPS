{
  "nbformat": 4,
  "nbformat_minor": 0,
  "metadata": {
    "colab": {
      "provenance": []
    },
    "kernelspec": {
      "name": "python3",
      "display_name": "Python 3"
    },
    "language_info": {
      "name": "python"
    }
  },
  "cells": [
    {
      "cell_type": "code",
      "execution_count": null,
      "metadata": {
        "id": "vUGph5pb5EPV"
      },
      "outputs": [],
      "source": []
    },
    {
      "cell_type": "markdown",
      "source": [
        "#1. What is Object oriented Programming?\n",
        "- Object Oriented Programming is a computer programming based on the concept of objects, which can contain data and code"
      ],
      "metadata": {
        "id": "vc6YJ6mk5Iiv"
      }
    },
    {
      "cell_type": "markdown",
      "source": [
        "#2. What is a class in OOP?\n",
        "- In Object Oriented programming ,class is a template for creating objects.Classes define the methods and variables that objects have in common."
      ],
      "metadata": {
        "id": "2kMZK5QZ9KT5"
      }
    },
    {
      "cell_type": "markdown",
      "source": [
        "#3. What is an object in OOP?\n",
        "- An object is a component of a program that knows how to perform certain actions and how to interact with other elements of the program.Objects are the basic unit of the Object oriented Programming.\n"
      ],
      "metadata": {
        "id": "6z1jE4wpCgGf"
      }
    },
    {
      "cell_type": "markdown",
      "source": [
        "#4. What is the difference between abstraction and encapsulation?\n",
        "- * Purpose - Abstraction hides unnecessary details to make an object\n",
        "    simpler and more efficient\n",
        "    Encapsulation restricts access to some components of an object to ensure data integrity and privacy\n",
        "  * Process - Abstraction defines common interfaces and behaviors that\n",
        "    can be used across different implementations\n",
        "    Encapsulation bundles data and methods into a single unit, and controls access to them\n",
        "  * Implementation -Abstraction uses abstract classes and interfaces to   \n",
        "    hide implementation complexities\n",
        "    Encapsulation uses access modifiers like private, protected, and public to hide data\n",
        "  * Benefits - Abstaction promotes code reusability and extendability\n",
        "    Encapsulation promotes the use of modular code and makes code easier to modify"
      ],
      "metadata": {
        "id": "NXuxPMiBgFL7"
      }
    },
    {
      "cell_type": "markdown",
      "source": [
        "#5. What are dunder methods in Python?\n",
        "- Dunder or magic methods are defined by built in classes in Python.These methods are ised for creating custom objects.These methods are surrounded by double underscore.\n",
        "-"
      ],
      "metadata": {
        "id": "i7yd5DuCeo1H"
      }
    },
    {
      "cell_type": "markdown",
      "source": [
        "#6.  Explain the concept of inheritance in OOP.\n",
        "- Inheritance refers to the process of child class receiving the parent class's property. Once s code is written in the parent class , It can be used for all the chils classes which inherit the parent class. Inheritance makes reusing the code is easier."
      ],
      "metadata": {
        "id": "UFAf3WjHe4dw"
      }
    },
    {
      "cell_type": "markdown",
      "source": [
        "#7. What is polymorphism in OOP?\n",
        "- Polymorphism refers to an object taking several forms depending on the mathod/data.Polymorphism allows us to carry out a single activity in variety of ways."
      ],
      "metadata": {
        "id": "ofik1__PN6ep"
      }
    },
    {
      "cell_type": "markdown",
      "source": [
        "#8.How is encapsulation achieved in Python?\n",
        "-Encapsulation is used to shield the data and methods of a class from accessing from outside.A class's variable and methods can be public , private or protected.\n",
        "Public data or method are accessible from anywhere from outside or inside of tehe class. If a programmer change any variable of any code by mistake , the code will take the changed value which is not acceptable.\n",
        "Private data or methods can not be accessed from outside .It can be used within the class . Any variable or method can be made private  by using \"__\" before the name of the varible or method.Only developer can change the method or the variable .This saves the code from outside user.\n",
        "Protected data  or methods can not be accessed from outside .It can be used within the class and it's subclass . Any variable or method can be made private  by using \"_\" before the name of the varible or method.\n",
        "\n"
      ],
      "metadata": {
        "id": "V7fhJzM353ry"
      }
    },
    {
      "cell_type": "markdown",
      "source": [
        "#9.What is a constructor in Python?\n",
        "- A constructor in Python is a special method that initializes an object when a class is instantiated.They're essential for writing clean, reusable, and efficient code."
      ],
      "metadata": {
        "id": "X5vnRu8OHhCd"
      }
    },
    {
      "cell_type": "markdown",
      "source": [
        "#10. What are class and static methods in Python?\n",
        "- Class methods are methods that are bound to the class and not the instance of the class. They can access or modify class state that applies across all instances of the class. Class methods are defined using the\n",
        "@classmethod decorator.\n",
        "Static methods are methods that belong to the class and don't access or modify class or instance state. They are defined using the @staticmethod decorator."
      ],
      "metadata": {
        "id": "BqTtURvrIFWC"
      }
    },
    {
      "cell_type": "markdown",
      "source": [
        "#11.  What is method overloading in Python?\n",
        "- Method overloading is the practice of invoking the same method more than\n",
        "once with different parameters. Python does not support Method overloading  "
      ],
      "metadata": {
        "id": "cWvI-vIeIsTl"
      }
    },
    {
      "cell_type": "markdown",
      "source": [
        "#12.What is method overriding in OOP?\n",
        "- Method overriding is the process of providing a different\n",
        "implementation for a method that is already defined in the superclass within a subclass. It enables the subclass to define its own version of a method with the same name and parameters as the method in the superclass. When a method is overridden, it  overrides the behaviour defined in the superclass. The subclass can then alter or expand the functionality of the inherited method."
      ],
      "metadata": {
        "id": "Wmx6mB0PJ5vU"
      }
    },
    {
      "cell_type": "markdown",
      "source": [
        "#13.What is a property decorator in Python?\n",
        "-The Python property decorator makes attributes in a class act like read-only properties. Essentially, it lets you access methods as if they were attributes, without needing to write parentheses.\n"
      ],
      "metadata": {
        "id": "TeGT3ybfLJk5"
      }
    },
    {
      "cell_type": "markdown",
      "source": [
        "#14. Why is polymorphism important in OOP?\n",
        "- Polymorphism allows programmers to perform a single action in different ways. In programming, the same function can behave differently depending on the object."
      ],
      "metadata": {
        "id": "t-ZrYgRlOOjM"
      }
    },
    {
      "cell_type": "markdown",
      "source": [
        "#15.What is an abstract class in Python?\n",
        "- In Python, an abstract class is a class that cannot be directly instantiated and serves as a blueprint for other classes.It defines methods that must be implemented by any subclass that inherits from it, essentially enforcing a consistent structure while allowing specific implementations in derived classes; it often contains \"abstract methods\" which are declared but have no implementation within the abstract class itself. To mark a method as abstract within an abstract class,@abstractmethod decorator. is used."
      ],
      "metadata": {
        "id": "eX-pBdGDRN23"
      }
    },
    {
      "cell_type": "markdown",
      "source": [
        "#16.What are the advantages of OOP?\n",
        "- The advantages of OOPs are\n",
        "    *Code reusability - Classes can be used to create multiple objects with the same behaviour instead of writing their code several times.\n",
        "    *Efficiency\n",
        "    * It is well suited for large ,complex data\n",
        "    * Collaborative projects cn be done by sharing the classes\n",
        "\n"
      ],
      "metadata": {
        "id": "u8bYkypkTzs0"
      }
    },
    {
      "cell_type": "markdown",
      "source": [
        "#17. What is the difference between a class variable and an instance variable?\n",
        "- A class variable is a variable that belongs to the class itself and is shared by all instances of that class, while an instance variable is a variable that belongs to each individual object (instance) created from the class\n"
      ],
      "metadata": {
        "id": "q9JuR_7zJarM"
      }
    },
    {
      "cell_type": "markdown",
      "source": [
        "#18. What is multiple inheritance in Python?\n",
        "- When one child class inherits the property of multiple parent class , then it is called multiple inheritance in Python."
      ],
      "metadata": {
        "id": "2p5hwhv2LsL-"
      }
    },
    {
      "cell_type": "markdown",
      "source": [
        "#19. Explain the purpose of ‘’__str__’ and ‘__repr__’ ‘ methods in Python.\n",
        "- __str__ method is called when str() function is used on an instance of the class. It should return a string representation of the object.\n",
        "__repr__ method is called when repr()function is used on an instance of the class. It should return an unambiguous string representation of the object, which can be used to recreate the object."
      ],
      "metadata": {
        "id": "D5bt6PgBMKKN"
      }
    },
    {
      "cell_type": "markdown",
      "source": [
        "#20.  What is the significance of the ‘super()’ function in Python?\n",
        "- super() function is used to access methods and attributes of a parent class (also called a superclass) from within a child class, allowing to call the parent class's functionality within a subclass when utilizing inheritance."
      ],
      "metadata": {
        "id": "IwjkqrDrNtJZ"
      }
    },
    {
      "cell_type": "markdown",
      "source": [
        "#21. What is the significance of the __del__ method in Python?\n",
        "- sel method is used to delete any object"
      ],
      "metadata": {
        "id": "YkUds4_fPdaB"
      }
    },
    {
      "cell_type": "markdown",
      "source": [
        "#22. What is the difference between @staticmethod and @classmethod in Python?\n",
        "- Classmethods are the methods that are bound to the class and not the instance of the class.They can access or modify the class state that applies across all instances of the class.classmethods are defined using the @classmethod decorator\n",
        "Static methods are methods that belong to the class and don't access or modify the class or instance state. they are defined using @staticmethod decorator."
      ],
      "metadata": {
        "id": "sCruKkbCQg8k"
      }
    },
    {
      "cell_type": "markdown",
      "source": [
        "#23. How does polymorphism work in Python with inheritance?\n",
        "- Ploymorphism takes place in two ways :\n",
        "      Method overloading - It is a practice of introducing the same method more than once with different parameters.Method overloading is not supported by Python. Even if the method is overloaded , Python takes the most recent parameters of the method.\n",
        "      Method overriding - It is the process of providing a different implementation for a method that is already defined  in the superclass.It enables the subclass to define its own version of method with the same name and parameters. It overrides the behaviour defined in the superclass.\n",
        "  "
      ],
      "metadata": {
        "id": "QQAaaAlSRpai"
      }
    },
    {
      "cell_type": "markdown",
      "source": [
        "#24.What is method chaining in Python OOP?\n",
        "- Method chaining refers to the practice of calling multiple methods on the same object consecutively in a single line of code, where each method returns the object itself."
      ],
      "metadata": {
        "id": "u7qP3NVfWCie"
      }
    },
    {
      "cell_type": "markdown",
      "source": [
        "#25. What is the purpose of the __call__ method in Python?\n",
        "- __call__ method allows to create classes where instances can be called like function. It is a Dunder method which is in built method in Python."
      ],
      "metadata": {
        "id": "5iDcj1LvWdQJ"
      }
    },
    {
      "cell_type": "code",
      "source": [
        "#1. Create a parent class Animal with a method speak() that prints a generic message. Create a child class Dog\n",
        "#that overrides the speak() method to print \"Bark!\".\n",
        "class Animal:\n",
        "  def speak(self):\n",
        "    print(\"Save Us!!!\")\n",
        "class Dog(Animal):\n",
        "  def speak(self):\n",
        "    print(\"Bark!\")\n",
        "dog = Dog()\n",
        "dog.speak()\n"
      ],
      "metadata": {
        "id": "G0KIpeJHXbY_"
      },
      "execution_count": null,
      "outputs": []
    },
    {
      "cell_type": "code",
      "source": [
        "#2.Write a program to create an abstract class Shape with a method area(). Derive classes Circle and Rectangle from it and implement the area() method in both.\n",
        "import abc\n",
        "class Shape:\n",
        "  @abc.abstractmethod\n",
        "  def area(self):\n",
        "    pass\n",
        "class Circle(Shape):\n",
        "  def area(self):\n",
        "    return \"Area of the circle is pi*r**2\"\n",
        "class Rectangle(Shape):\n",
        "  def area(self):\n",
        "    return\" The area of the rectangle is l*b\"\n",
        "rec_area = Rectangle()\n",
        "rec_area.area()\n",
        "circ_area = Circle()\n",
        "circ_area.area()\n",
        "# RETURNS Area of the circle is pi*r**2 as Class Circle is defined first."
      ],
      "metadata": {
        "id": "pQ4AsLejrH-d"
      },
      "execution_count": null,
      "outputs": []
    },
    {
      "cell_type": "code",
      "source": [
        "#3. Implement a multi-level inheritance scenario where a class Vehicle has an attribute type. Derive a class Car\n",
        "#and further derive a class ElectricCar that adds a battery attribute.\n",
        "class Vehicle:\n",
        "  def attr_vehicle(self,wheel):\n",
        "    print(\"Iam a\",wheel,\"wheeler\")\n",
        "class Car(Vehicle):\n",
        "  def attr_car(self,wheel,fuel):\n",
        "    print(\"I have\",wheel,\"wheels\" \" & I need\",fuel,\"for starting\")\n",
        "class ElectricCar(Car):\n",
        "  def attr_elect(self,wheel,fuel,battery):\n",
        "    print(\"I have\",wheel,\"wheels & I don't need\",fuel,\"but i need\",battery,\"for charging\")\n",
        "elect_car=ElectricCar()\n",
        "elect_car.attr_elect(4,\"petrol\",\"Battery\")\n",
        "elect_car.attr_vehicle(\"4\")\n",
        "elect_car.attr_car(\"4\",\"Petrol\") # elect_car is an object of derive class>>It can access the properties of the class Vehicle and Car\n",
        "car1 = Car()\n",
        "car1.attr_car(\"4\",\"Petrol\")\n",
        "car1.attr.vehicle(\"4\")\n",
        "car1.attr_elect(4,\"Petrol\",\"Battery\") # car1 is an object of Car >> It can not access the properties of its child class ElectricCar\n",
        "veh = Vehicle()\n",
        "veh.attr_vehicle(\"4\") # veh object can not access the properties of the class Car & ElectricCar\n",
        "\n",
        "\n"
      ],
      "metadata": {
        "id": "hvoYJEjlL_Bk"
      },
      "execution_count": null,
      "outputs": []
    },
    {
      "cell_type": "code",
      "source": [
        "#4.Implement a multi-level inheritance scenario where a class Vehicle has an attribute type. Derive a class Car\n",
        "#and further derive a class ElectricCar that adds a battery attribute.\n",
        "class Vehicle:\n",
        "  def attr_vehicle(self,wheel):\n",
        "    print(\"I have\",wheel,\"wheels\")\n",
        "class Car(Vehicle):\n",
        "  def attr_car(self,wheel,fuel):\n",
        "    print(\"I have\",wheel,\"wheels\" \" & I need\",fuel,\"for starting\")\n",
        "class ElectricCar(Car):\n",
        "  def attr_elect(self,wheel,fuel,battery):\n",
        "    print(\"I have\",wheel,\"wheels & I don't need\",fuel,\"but i need\",battery,\"for charging\")\n",
        "elect_car=ElectricCar()\n",
        "elect_car.attr_elect(4,\"petrol\",\"Battery\")\n",
        "elect_car.attr_vehicle(\"4\")\n",
        "elect_car.attr_car(\"4\",\"Petrol\") # elect_car is an object of derive class>>It can access the properties of the class Vehicle and Car\n",
        "car1 = Car()\n",
        "car1.attr_car(\"4\",\"Petrol\")\n",
        "car1.attr.vehicle(\"4\")\n",
        "car1.attr_elect(4,\"Petrol\",\"Battery\") # car1 is an object of Car >> It can not access the properties of its child class ElectricCar\n",
        "veh = Vehicle()\n",
        "veh.attr_vehicle(\"4\") # veh object can not access the properties of the class Car & ElectricCar\n"
      ],
      "metadata": {
        "id": "NwMXE-tRXz3P"
      },
      "execution_count": null,
      "outputs": []
    },
    {
      "cell_type": "code",
      "source": [
        "#5.Write a program to demonstrate encapsulation by creating a class BankAccount with private attributes\n",
        "#balance and methods to deposit, withdraw, and check balance.\n",
        "class BankAccount:\n",
        "    def __init__(self, balance):\n",
        "      self.__balance = balance # '__' is used to make the balance attribute private\n",
        "\n",
        "\n",
        "    def deposit(self, amount): # for depositing money\n",
        "      self.amount = amount\n",
        "      self.__balance = self.__balance + amount\n",
        "      print(f\"Deposited amount is {self.amount}\")\n",
        "\n",
        "    def withdraw(self,with_amount):# for withdrawl\n",
        "      self.with_amount= with_amount\n",
        "      if self.with_amount <= self.__balance:\n",
        "        self.__balance = self.__balance - with_amount\n",
        "        print(f\"Amount withdrawn is {self.with_amount}\")\n",
        "      else:\n",
        "        print(\"INSUFFICIENT BALANCE!!!\")\n",
        "\n",
        "    def check_balance(self):# To check the balance amount\n",
        "      return print(f\"Thae balance amount is {self.__balance}\")\n",
        "\n",
        "dep = BankAccount(10000)\n",
        "dep.deposit(500)\n",
        "dep.withdraw(1500)\n",
        "dep.check_balance()\n",
        "dep.balance # will throw an error as balance attribute is private"
      ],
      "metadata": {
        "id": "V8XvF-57X4TC"
      },
      "execution_count": null,
      "outputs": []
    },
    {
      "cell_type": "code",
      "source": [
        "#6.Demonstrate runtime polymorphism using a method play() in a base class Instrument. Derive classes Guitar\n",
        "# and Piano that implement their own version of play().\n",
        "class Instrument :\n",
        "  def play(self):\n",
        "    print(\"I am an instrument\")\n",
        "class Guitar(Instrument):\n",
        "  def play(self):\n",
        "    print(\"I am a stringed instrument\")\n",
        "class Piano(Instrument) :\n",
        "  def play(self):\n",
        "    print(\"i am both stringed & percussion instrument\")\n",
        "instru = Instrument()\n",
        "instru.play() # Takes the play method of Instrument\n",
        "instru1 = Guitar()\n",
        "instru1.play() # Takes the play method of the child class Guitar\n",
        "instru2 = Piano()\n",
        "instru2.play() # Takes the play method of the child class Piano\n"
      ],
      "metadata": {
        "id": "1oclzUGuyDb8"
      },
      "execution_count": null,
      "outputs": []
    },
    {
      "cell_type": "code",
      "source": [
        "#7.Create a class MathOperations with a class method add_numbers() to add two numbers and a static\n",
        "#method subtract_numbers() to subtract two numbers.\n",
        "class MathOperations :\n",
        "  def __init__(self, x, y):\n",
        "    self.x = x\n",
        "    self.y = y\n",
        "  @classmethod\n",
        "  def add_numbers(cls,x,y):\n",
        "    return x + y\n",
        "  @staticmethod\n",
        "  def subtract_numbers(x , y):\n",
        "    return x - y\n",
        "obj = MathOperations.add_numbers(3,5)\n",
        "print(\"Addition of the two Numbers is\",obj )\n",
        "obj2 = MathOperations.subtract_numbers(5,3)\n",
        "print(\"Difference between the two Numbers is\",obj2 )\n"
      ],
      "metadata": {
        "id": "MxB-7Z2ahWz8"
      },
      "execution_count": null,
      "outputs": []
    },
    {
      "cell_type": "code",
      "source": [
        "#8.Implement a class Person with a class method to count the total number of persons created.\n",
        "class Person:\n",
        "  total_count = 0\n",
        "  def __init__(self,count):\n",
        "    self.count = count\n",
        "    Person.total_count = Person.total_count + 1\n",
        "\n",
        "  @classmethod\n",
        "  def person_count(cls):\n",
        "   return cls.total_count\n",
        "  per1 = Person(\"Piyali\")\n",
        "  per2 = Person(\"Mitali\")\n",
        "  per3 = Person(\"Barnali\")\n",
        "  print(\"Total No of persons\",Person.person_count())"
      ],
      "metadata": {
        "id": "8RNu7hp5pdQ4"
      },
      "execution_count": null,
      "outputs": []
    },
    {
      "cell_type": "code",
      "source": [
        "#9.Write a class Fraction with attributes numerator and denominator. Override the str method to display the\n",
        "#fraction as \"numerator/denominator\".\n",
        "class Fraction:\n",
        "  def __init__(self):\n",
        "    self.numer = 3\n",
        "    self.denom = 5\n",
        "  def __str__(self):\n",
        "    return f\"Display the fraction as Numerator/Denominator\"\n",
        "Fraction()\n",
        "print(Fraction())"
      ],
      "metadata": {
        "id": "wgP89yj36igY"
      },
      "execution_count": null,
      "outputs": []
    },
    {
      "cell_type": "code",
      "source": [
        "#10.Demonstrate operator overloading by creating a class Vector and overriding the add method to add two\n",
        "#vectors.\n",
        "class Vector:\n",
        "  def add(self,x):\n",
        "    return self.x\n",
        "  def add(self,x,y):\n",
        "    return self.x ,self.y\n",
        "  def add(self,x,y):\n",
        "    self.x = x\n",
        "    self.y = y\n",
        "    print(\"Vector addition of\",self.x,\"&\",self.y,\"is\",(self.x**2 + self.y**2)**0.5)\n",
        "vector = Vector()\n",
        "vector.add(3,4)\n"
      ],
      "metadata": {
        "id": "wlq0rWXi5MDp"
      },
      "execution_count": null,
      "outputs": []
    },
    {
      "cell_type": "code",
      "source": [
        "#11.Create a class Person with attributes name and age. Add a method greet() that prints \"Hello, my name is\n",
        "#{name} and I am {age} years old.\n",
        "class Person:\n",
        "  def __init__(self,name,age):\n",
        "    self.name = name\n",
        "    self.age = age\n",
        "  def greet(self):\n",
        "    print(\"Hello,my name is\",self.name ,\"and I am\",self.age, \"years old\")\n",
        "per = Person(\"Amit\",30)\n",
        "per.greet()"
      ],
      "metadata": {
        "id": "K0YzpTFgUOwD"
      },
      "execution_count": null,
      "outputs": []
    },
    {
      "cell_type": "code",
      "source": [
        "#12.Implement a class Student with attributes name and grades. Create a method average_grade() to compute\n",
        "#the average of the grades.\n",
        "class Student:\n",
        "  name_count = 0\n",
        "  grades_count = 0\n",
        "  def __init__(self,name,grades):\n",
        "    self.name = name\n",
        "    self.grades = grades\n",
        "    Student.name_count += 1\n",
        "  def average_grade(self):\n",
        "    return grades_count\n",
        "avg1 = Student(\"Ajay\",50)\n",
        "avg2 = Student(\"bijay\",25)\n",
        "avg3 = Student(\"Sujoy\",80)\n",
        "avg1.grades +avg2.grades+avg3.grades\n",
        "print(\"The average of the grades is\",(avg1.grades+avg2.grades+avg3.grades)/Student.name_count)\n",
        "\n",
        "\n"
      ],
      "metadata": {
        "id": "VxfYj7nkgxqY"
      },
      "execution_count": null,
      "outputs": []
    },
    {
      "cell_type": "code",
      "source": [
        "#13. Create a class Rectangle with methods set_dimensions() to set the dimensions and area() to calculate the\n",
        "#area.\n",
        "class Rectangle:\n",
        "  def __init__(self,length,breadth):\n",
        "    self.length = length\n",
        "    self.breadth = breadth\n",
        "\n",
        "  def set_dimensions(self):\n",
        "      print(\"The length of the Rectangle is\",self.length,\"unit\")\n",
        "      print(\"The Breadth of the Rectangle is\",self.breadth,\"unit\")\n",
        "\n",
        "  def area(self):\n",
        "      print(\"Area of the rectangle is\",self.length * self.breadth,\"sq unit\")\n",
        "a = Rectangle(30,20)\n",
        "a.set_dimensions()\n",
        "a.area()"
      ],
      "metadata": {
        "id": "I-XoAGZ0amcj"
      },
      "execution_count": null,
      "outputs": []
    },
    {
      "cell_type": "code",
      "source": [
        "#14.  Create a class Employee with a method calculate_salary() that computes the salary based on hours worked\n",
        "#and hourly rate. Create a derived class Manager that adds a bonus to the salary.\n",
        "class Employee:\n",
        "  def __init__(self,name,month,days_month_bonus,working_hour,hourly_rate):\n",
        "    self.name = name\n",
        "    self.month = month\n",
        "    self.days_month_bonus = days_month_bonus\n",
        "    self.working_hour = working_hour\n",
        "    self.hourly_rate = hourly_rate\n",
        "  def calculate_salary(self):\n",
        "    print(\"The salary of\",self.name,\"for the month of\",self.month,\"is\",self.working_hour*self.hourly_rate)\n",
        "class Manager(Employee):\n",
        "\n",
        "  def calculate_salary(self):\n",
        "    bonus = 5000\n",
        "    if self.working_hour == 8 :\n",
        "      bonus = bonus\n",
        "      print(\"The salary of\",self.name,\"for the month of\",self.month,\"is\",self.working_hour*self.hourly_rate+bonus,\"& the bonus amount is\",bonus)\n",
        "    elif  8<=self.working_hour<=10 :\n",
        "      bonus = bonus + (self.working_hour-8)*self.days_month_bonus*100\n",
        "      print(\"The salary including bonus of\",self.name,\"for the month of\",self.month,\"is\",self.working_hour*self.hourly_rate + bonus, \" & the bonus amount is\",bonus)\n",
        "    else:\n",
        "      print(\"You are not eligible for any bonus amount\")\n",
        "salary = Employee(\"Ajay\",\"January\",15, 10 , 300) # bonus is Rs 5000 + amount fo 15 days of overtime at Rs100 per hour after 8 hrs of duty.Maximun time of work is 10 Hrs\n",
        "salary.calculate_salary()\n",
        "salary1=Manager(\"Ajay\",\"January\",15, 10 , 300)\n",
        "salary1.calculate_salary()\n"
      ],
      "metadata": {
        "id": "smpJQwyP7eqy"
      },
      "execution_count": null,
      "outputs": []
    },
    {
      "cell_type": "code",
      "source": [
        "#15. Create a class Product with attributes name, price, and quantity. Implement a method total_price() that\n",
        "#calculates the total price of the product.\n",
        "class Product:\n",
        "  def __init__(self,name,price,quantity):\n",
        "    self.name = name\n",
        "    self.price = price\n",
        "    self.quantity = quantity\n",
        "  def total_price(self):\n",
        "    print(\"The total price of\",self.name,\"is\",self.price*self.quantity)\n",
        "product1 = Product(\"Apple\",30,4)\n",
        "product2 = Product(\"Banana\",10,12)\n",
        "product1.total_price()\n",
        "product2.total_price()\n",
        "\n",
        "\n"
      ],
      "metadata": {
        "id": "nTz56lQklELL"
      },
      "execution_count": null,
      "outputs": []
    },
    {
      "cell_type": "code",
      "source": [
        "#16.  Create a class Animal with an abstract method sound(). Create two derived classes Cow and Sheep that\n",
        "#implement the sound() method.\n",
        "import abc\n",
        "class Animal:\n",
        "  @abc.abstractmethod\n",
        "  def sound(self):\n",
        "    pass\n",
        "class Cow(Animal):\n",
        "  def sound(self):\n",
        "    return \"Moo\"\n",
        "class Sheep(Animal):\n",
        "  def sound(self):\n",
        "    return \"Baa\"\n",
        "c = Cow()\n",
        "c.sound()\n",
        "s = Sheep()\n",
        "s.sound()"
      ],
      "metadata": {
        "id": "20sWZzWDpR7Y"
      },
      "execution_count": null,
      "outputs": []
    },
    {
      "cell_type": "code",
      "source": [
        "#17. Create a class Book with attributes title, author, and year_published. Add a method get_book_info() that\n",
        "#returns a formatted string with the book's details.\n",
        "class Book:\n",
        "  def __init__(self,title,author,year_published):\n",
        "    self.title = title\n",
        "    self.author = author\n",
        "    self.year_published = year_published\n",
        "\n",
        "  def get_book_info(self):\n",
        "    return \" Title of the book :\", {self.title}, \"Author of the book :\", {self.author} ,\"Year of publishing :\", {self.year_published}\n",
        "details_book = Book(\"A\",\"B\",2023)\n",
        "details_book.get_book_info()\n"
      ],
      "metadata": {
        "id": "c9Ukiw4ngAvu"
      },
      "execution_count": null,
      "outputs": []
    },
    {
      "cell_type": "code",
      "source": [
        "#18.Create a class House with attributes address and price. Create a derived class Mansion that adds an\n",
        "#attribute number_of_rooms.\n",
        "class House:\n",
        "  def __init__(self,address,price):\n",
        "    self.address = address\n",
        "    self.price = price\n",
        "class Mansion(House):\n",
        "  def __init__(self,address,price,number_of_rooms):\n",
        "    super().__init__(address,price)\n",
        "    #super().__init__(price)\n",
        "    self.number_of_rooms = number_of_rooms\n",
        "    print(\"There is  a beautiful Mansion in\",self.address,\"area having\",self.number_of_rooms,\"rooms & the cost is\",self.price,\"crore\")\n",
        "room = Mansion(\"Park street\",\"1.5\",10)"
      ],
      "metadata": {
        "id": "-fTj6SU0p5mn"
      },
      "execution_count": null,
      "outputs": []
    }
  ]
}